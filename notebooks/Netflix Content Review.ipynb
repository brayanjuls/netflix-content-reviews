{
 "cells": [
  {
   "cell_type": "code",
   "execution_count": 1,
   "metadata": {},
   "outputs": [
    {
     "name": "stdout",
     "output_type": "stream",
     "text": [
      "Warning: Your Kaggle API key is readable by other users on this system! To fix this, you can run 'chmod 600 /Users/brayanjules/.kaggle/kaggle.json'\n"
     ]
    }
   ],
   "source": [
    "from pyspark.sql import SparkSession\n",
    "from pyspark import SparkContext\n",
    "import pyspark.sql.functions as fc\n",
    "from pyspark.sql.functions import column as col,udf\n",
    "import pyspark.sql.types as tp\n",
    "from datetime import datetime as dt\n",
    "import kaggle"
   ]
  },
  {
   "cell_type": "code",
   "execution_count": 2,
   "metadata": {},
   "outputs": [
    {
     "data": {
      "text/html": [
       "\n",
       "            <div>\n",
       "                <p><b>SparkSession - in-memory</b></p>\n",
       "                \n",
       "        <div>\n",
       "            <p><b>SparkContext</b></p>\n",
       "\n",
       "            <p><a href=\"http://192.168.0.16:4041\">Spark UI</a></p>\n",
       "\n",
       "            <dl>\n",
       "              <dt>Version</dt>\n",
       "                <dd><code>v2.4.5</code></dd>\n",
       "              <dt>Master</dt>\n",
       "                <dd><code>local[*]</code></dd>\n",
       "              <dt>AppName</dt>\n",
       "                <dd><code>pyspark-shell</code></dd>\n",
       "            </dl>\n",
       "        </div>\n",
       "        \n",
       "            </div>\n",
       "        "
      ],
      "text/plain": [
       "<pyspark.sql.session.SparkSession at 0x1120aaa50>"
      ]
     },
     "execution_count": 2,
     "metadata": {},
     "output_type": "execute_result"
    }
   ],
   "source": [
    "spark = SparkSession.builder.config(\"spark.jars.packages\",\"com.johnsnowlabs.nlp:spark-nlp_2.11:2.4.4\").getOrCreate()\n",
    "spark"
   ]
  },
  {
   "cell_type": "markdown",
   "metadata": {},
   "source": [
    "# Netflix Catalog"
   ]
  },
  {
   "cell_type": "markdown",
   "metadata": {},
   "source": [
    "### Load catalog data and get ride of malformed rows"
   ]
  },
  {
   "cell_type": "code",
   "execution_count": 3,
   "metadata": {},
   "outputs": [],
   "source": [
    "netflix_catalog_path='/Users/brayanjules/Projects/personal/data engineer/datasets/raw_netflix_catalog'\n",
    "catalog = spark.read.csv(netflix_catalog_path,inferSchema=True, header=True,mode=\"DROPMALFORMED\")"
   ]
  },
  {
   "cell_type": "code",
   "execution_count": 4,
   "metadata": {
    "pycharm": {
     "is_executing": false,
     "name": "#%%\n"
    }
   },
   "outputs": [],
   "source": [
    "files=kaggle.api.dataset_download_files(dataset=\"shivamb/netflix-shows\")"
   ]
  },
  {
   "cell_type": "code",
   "execution_count": 14,
   "metadata": {
    "pycharm": {
     "is_executing": false,
     "name": "#%%\n"
    }
   },
   "outputs": [],
   "source": [
    "files"
   ]
  },
  {
   "cell_type": "code",
   "execution_count": 4,
   "metadata": {},
   "outputs": [
    {
     "name": "stdout",
     "output_type": "stream",
     "text": [
      "root\n",
      " |-- show_id: string (nullable = true)\n",
      " |-- type: string (nullable = true)\n",
      " |-- title: string (nullable = true)\n",
      " |-- director: string (nullable = true)\n",
      " |-- cast: string (nullable = true)\n",
      " |-- country: string (nullable = true)\n",
      " |-- date_added: string (nullable = true)\n",
      " |-- release_year: string (nullable = true)\n",
      " |-- rating: string (nullable = true)\n",
      " |-- duration: string (nullable = true)\n",
      " |-- listed_in: string (nullable = true)\n",
      " |-- description: string (nullable = true)\n",
      "\n"
     ]
    }
   ],
   "source": [
    "catalog.printSchema()"
   ]
  },
  {
   "cell_type": "code",
   "execution_count": 4,
   "metadata": {},
   "outputs": [
    {
     "data": {
      "text/html": [
       "<div>\n",
       "<style scoped>\n",
       "    .dataframe tbody tr th:only-of-type {\n",
       "        vertical-align: middle;\n",
       "    }\n",
       "\n",
       "    .dataframe tbody tr th {\n",
       "        vertical-align: top;\n",
       "    }\n",
       "\n",
       "    .dataframe thead th {\n",
       "        text-align: right;\n",
       "    }\n",
       "</style>\n",
       "<table border=\"1\" class=\"dataframe\">\n",
       "  <thead>\n",
       "    <tr style=\"text-align: right;\">\n",
       "      <th></th>\n",
       "      <th>show_id</th>\n",
       "      <th>type</th>\n",
       "      <th>title</th>\n",
       "      <th>director</th>\n",
       "      <th>cast</th>\n",
       "      <th>country</th>\n",
       "      <th>date_added</th>\n",
       "      <th>release_year</th>\n",
       "      <th>rating</th>\n",
       "      <th>duration</th>\n",
       "      <th>listed_in</th>\n",
       "      <th>description</th>\n",
       "    </tr>\n",
       "  </thead>\n",
       "  <tbody>\n",
       "    <tr>\n",
       "      <td>0</td>\n",
       "      <td>81011096</td>\n",
       "      <td>Movie</td>\n",
       "      <td>최강전사 미니특공대 : 영웅의 탄생</td>\n",
       "      <td>Young Jun Lee</td>\n",
       "      <td>Um Sang-hyun, Yang Jeong-hwa, Jeon Tae-yeol, S...</td>\n",
       "      <td>None</td>\n",
       "      <td>September 1, 2018</td>\n",
       "      <td>2018</td>\n",
       "      <td>TV-Y7-FV</td>\n",
       "      <td>68 min</td>\n",
       "      <td>Children &amp; Family Movies</td>\n",
       "      <td>Miniforce, a special task force of elite range...</td>\n",
       "    </tr>\n",
       "    <tr>\n",
       "      <td>1</td>\n",
       "      <td>80226357</td>\n",
       "      <td>Movie</td>\n",
       "      <td>반드시 잡는다</td>\n",
       "      <td>Hong-seon Kim</td>\n",
       "      <td>Baek Yoon-sik</td>\n",
       "      <td>South Korea</td>\n",
       "      <td>February 28, 2018</td>\n",
       "      <td>2017</td>\n",
       "      <td>TV-MA</td>\n",
       "      <td>110 min</td>\n",
       "      <td>Dramas, International Movies, Thrillers</td>\n",
       "      <td>After people in his town start turning up dead...</td>\n",
       "    </tr>\n",
       "    <tr>\n",
       "      <td>2</td>\n",
       "      <td>80226338</td>\n",
       "      <td>TV Show</td>\n",
       "      <td>마녀사냥</td>\n",
       "      <td>None</td>\n",
       "      <td>Si-kyung Sung, Se-yoon Yoo, Dong-yup Shin, Ji-...</td>\n",
       "      <td>South Korea</td>\n",
       "      <td>February 19, 2018</td>\n",
       "      <td>2015</td>\n",
       "      <td>TV-MA</td>\n",
       "      <td>1 Season</td>\n",
       "      <td>International TV Shows, Korean TV Shows, Stand...</td>\n",
       "      <td>Four Korean celebrity men and guest stars of b...</td>\n",
       "    </tr>\n",
       "  </tbody>\n",
       "</table>\n",
       "</div>"
      ],
      "text/plain": [
       "    show_id     type                title       director  \\\n",
       "0  81011096    Movie  최강전사 미니특공대 : 영웅의 탄생  Young Jun Lee   \n",
       "1  80226357    Movie              반드시 잡는다  Hong-seon Kim   \n",
       "2  80226338  TV Show                 마녀사냥           None   \n",
       "\n",
       "                                                cast      country  \\\n",
       "0  Um Sang-hyun, Yang Jeong-hwa, Jeon Tae-yeol, S...         None   \n",
       "1                                      Baek Yoon-sik  South Korea   \n",
       "2  Si-kyung Sung, Se-yoon Yoo, Dong-yup Shin, Ji-...  South Korea   \n",
       "\n",
       "          date_added release_year    rating  duration  \\\n",
       "0  September 1, 2018         2018  TV-Y7-FV    68 min   \n",
       "1  February 28, 2018         2017     TV-MA   110 min   \n",
       "2  February 19, 2018         2015     TV-MA  1 Season   \n",
       "\n",
       "                                           listed_in  \\\n",
       "0                           Children & Family Movies   \n",
       "1            Dramas, International Movies, Thrillers   \n",
       "2  International TV Shows, Korean TV Shows, Stand...   \n",
       "\n",
       "                                         description  \n",
       "0  Miniforce, a special task force of elite range...  \n",
       "1  After people in his town start turning up dead...  \n",
       "2  Four Korean celebrity men and guest stars of b...  "
      ]
     },
     "execution_count": 4,
     "metadata": {},
     "output_type": "execute_result"
    }
   ],
   "source": [
    "catalog_ordered=catalog.orderBy(fc.desc('title'))\n",
    "catalog_ordered.limit(3).toPandas()"
   ]
  },
  {
   "cell_type": "markdown",
   "metadata": {},
   "source": [
    "## Netflix Catalog Data Cleaning"
   ]
  },
  {
   "cell_type": "markdown",
   "metadata": {},
   "source": [
    "### Deduplication of the data"
   ]
  },
  {
   "cell_type": "code",
   "execution_count": 5,
   "metadata": {},
   "outputs": [
    {
     "data": {
      "text/html": [
       "<div>\n",
       "<style scoped>\n",
       "    .dataframe tbody tr th:only-of-type {\n",
       "        vertical-align: middle;\n",
       "    }\n",
       "\n",
       "    .dataframe tbody tr th {\n",
       "        vertical-align: top;\n",
       "    }\n",
       "\n",
       "    .dataframe thead th {\n",
       "        text-align: right;\n",
       "    }\n",
       "</style>\n",
       "<table border=\"1\" class=\"dataframe\">\n",
       "  <thead>\n",
       "    <tr style=\"text-align: right;\">\n",
       "      <th></th>\n",
       "      <th>title</th>\n",
       "      <th>director</th>\n",
       "      <th>count</th>\n",
       "    </tr>\n",
       "  </thead>\n",
       "  <tbody>\n",
       "    <tr>\n",
       "      <td>0</td>\n",
       "      <td>Life</td>\n",
       "      <td>None</td>\n",
       "      <td>2</td>\n",
       "    </tr>\n",
       "    <tr>\n",
       "      <td>1</td>\n",
       "      <td>The Silence</td>\n",
       "      <td>Gajendra Ahire</td>\n",
       "      <td>2</td>\n",
       "    </tr>\n",
       "    <tr>\n",
       "      <td>2</td>\n",
       "      <td>The Birth Reborn</td>\n",
       "      <td>Eduardo Chauvet</td>\n",
       "      <td>2</td>\n",
       "    </tr>\n",
       "    <tr>\n",
       "      <td>3</td>\n",
       "      <td>Top Boy</td>\n",
       "      <td>None</td>\n",
       "      <td>2</td>\n",
       "    </tr>\n",
       "    <tr>\n",
       "      <td>4</td>\n",
       "      <td>Frank and Cindy</td>\n",
       "      <td>G.J. Echternkamp</td>\n",
       "      <td>2</td>\n",
       "    </tr>\n",
       "  </tbody>\n",
       "</table>\n",
       "</div>"
      ],
      "text/plain": [
       "              title          director  count\n",
       "0              Life              None      2\n",
       "1       The Silence    Gajendra Ahire      2\n",
       "2  The Birth Reborn   Eduardo Chauvet      2\n",
       "3           Top Boy              None      2\n",
       "4   Frank and Cindy  G.J. Echternkamp      2"
      ]
     },
     "execution_count": 5,
     "metadata": {},
     "output_type": "execute_result"
    }
   ],
   "source": [
    "duplicatedContent=catalog.groupBy(['title','director']).count().orderBy(fc.desc('count'))\n",
    "duplicatedContent.limit(5).toPandas()"
   ]
  },
  {
   "cell_type": "code",
   "execution_count": 6,
   "metadata": {},
   "outputs": [
    {
     "data": {
      "text/html": [
       "<div>\n",
       "<style scoped>\n",
       "    .dataframe tbody tr th:only-of-type {\n",
       "        vertical-align: middle;\n",
       "    }\n",
       "\n",
       "    .dataframe tbody tr th {\n",
       "        vertical-align: top;\n",
       "    }\n",
       "\n",
       "    .dataframe thead th {\n",
       "        text-align: right;\n",
       "    }\n",
       "</style>\n",
       "<table border=\"1\" class=\"dataframe\">\n",
       "  <thead>\n",
       "    <tr style=\"text-align: right;\">\n",
       "      <th></th>\n",
       "      <th>show_id</th>\n",
       "      <th>type</th>\n",
       "      <th>title</th>\n",
       "      <th>director</th>\n",
       "      <th>cast</th>\n",
       "      <th>country</th>\n",
       "      <th>date_added</th>\n",
       "      <th>release_year</th>\n",
       "      <th>rating</th>\n",
       "      <th>duration</th>\n",
       "      <th>listed_in</th>\n",
       "      <th>description</th>\n",
       "    </tr>\n",
       "  </thead>\n",
       "  <tbody>\n",
       "    <tr>\n",
       "      <td>0</td>\n",
       "      <td>81021447</td>\n",
       "      <td>Movie</td>\n",
       "      <td>The Silence</td>\n",
       "      <td>John R. Leonetti</td>\n",
       "      <td>Stanley Tucci, Kiernan Shipka, Miranda Otto, K...</td>\n",
       "      <td>Germany</td>\n",
       "      <td>April 10, 2019</td>\n",
       "      <td>2019</td>\n",
       "      <td>TV-14</td>\n",
       "      <td>91 min</td>\n",
       "      <td>Horror Movies, Thrillers</td>\n",
       "      <td>With the world under attack by deadly creature...</td>\n",
       "    </tr>\n",
       "    <tr>\n",
       "      <td>1</td>\n",
       "      <td>80244078</td>\n",
       "      <td>Movie</td>\n",
       "      <td>The Silence</td>\n",
       "      <td>Gajendra Ahire</td>\n",
       "      <td>Raghuvir Yadav, Nagraj Manjule, Anjali Patil, ...</td>\n",
       "      <td>India</td>\n",
       "      <td>March 1, 2018</td>\n",
       "      <td>2017</td>\n",
       "      <td>TV-MA</td>\n",
       "      <td>90 min</td>\n",
       "      <td>Dramas, International Movies</td>\n",
       "      <td>On a train in Mumbai, 20-something Chini witne...</td>\n",
       "    </tr>\n",
       "  </tbody>\n",
       "</table>\n",
       "</div>"
      ],
      "text/plain": [
       "    show_id   type        title          director  \\\n",
       "0  81021447  Movie  The Silence  John R. Leonetti   \n",
       "1  80244078  Movie  The Silence    Gajendra Ahire   \n",
       "\n",
       "                                                cast  country      date_added  \\\n",
       "0  Stanley Tucci, Kiernan Shipka, Miranda Otto, K...  Germany  April 10, 2019   \n",
       "1  Raghuvir Yadav, Nagraj Manjule, Anjali Patil, ...    India   March 1, 2018   \n",
       "\n",
       "  release_year rating duration                     listed_in  \\\n",
       "0         2019  TV-14   91 min      Horror Movies, Thrillers   \n",
       "1         2017  TV-MA   90 min  Dramas, International Movies   \n",
       "\n",
       "                                         description  \n",
       "0  With the world under attack by deadly creature...  \n",
       "1  On a train in Mumbai, 20-something Chini witne...  "
      ]
     },
     "execution_count": 6,
     "metadata": {},
     "output_type": "execute_result"
    }
   ],
   "source": [
    "catalog.where(catalog.title=='The Silence').dropDuplicates(['title','director']).toPandas()"
   ]
  },
  {
   "cell_type": "code",
   "execution_count": 7,
   "metadata": {},
   "outputs": [
    {
     "data": {
      "text/html": [
       "<div>\n",
       "<style scoped>\n",
       "    .dataframe tbody tr th:only-of-type {\n",
       "        vertical-align: middle;\n",
       "    }\n",
       "\n",
       "    .dataframe tbody tr th {\n",
       "        vertical-align: top;\n",
       "    }\n",
       "\n",
       "    .dataframe thead th {\n",
       "        text-align: right;\n",
       "    }\n",
       "</style>\n",
       "<table border=\"1\" class=\"dataframe\">\n",
       "  <thead>\n",
       "    <tr style=\"text-align: right;\">\n",
       "      <th></th>\n",
       "      <th>title</th>\n",
       "      <th>director</th>\n",
       "      <th>count</th>\n",
       "    </tr>\n",
       "  </thead>\n",
       "  <tbody>\n",
       "    <tr>\n",
       "      <td>0</td>\n",
       "      <td>I'll See You in My Dreams</td>\n",
       "      <td>Brett Haley</td>\n",
       "      <td>1</td>\n",
       "    </tr>\n",
       "    <tr>\n",
       "      <td>1</td>\n",
       "      <td>Raging Bull</td>\n",
       "      <td>Martin Scorsese</td>\n",
       "      <td>1</td>\n",
       "    </tr>\n",
       "    <tr>\n",
       "      <td>2</td>\n",
       "      <td>Barbie: Spy Squad</td>\n",
       "      <td>Conrad Helten</td>\n",
       "      <td>1</td>\n",
       "    </tr>\n",
       "    <tr>\n",
       "      <td>3</td>\n",
       "      <td>Drive</td>\n",
       "      <td>Tarun Mansukhani</td>\n",
       "      <td>1</td>\n",
       "    </tr>\n",
       "    <tr>\n",
       "      <td>4</td>\n",
       "      <td>Yaara O Dildaara</td>\n",
       "      <td>Ksshitij Chaudhary</td>\n",
       "      <td>1</td>\n",
       "    </tr>\n",
       "    <tr>\n",
       "      <td>...</td>\n",
       "      <td>...</td>\n",
       "      <td>...</td>\n",
       "      <td>...</td>\n",
       "    </tr>\n",
       "    <tr>\n",
       "      <td>6216</td>\n",
       "      <td>Pacific Heat</td>\n",
       "      <td>None</td>\n",
       "      <td>1</td>\n",
       "    </tr>\n",
       "    <tr>\n",
       "      <td>6217</td>\n",
       "      <td>Lunatics</td>\n",
       "      <td>None</td>\n",
       "      <td>1</td>\n",
       "    </tr>\n",
       "    <tr>\n",
       "      <td>6218</td>\n",
       "      <td>Real Rob</td>\n",
       "      <td>None</td>\n",
       "      <td>1</td>\n",
       "    </tr>\n",
       "    <tr>\n",
       "      <td>6219</td>\n",
       "      <td>Explained</td>\n",
       "      <td>None</td>\n",
       "      <td>1</td>\n",
       "    </tr>\n",
       "    <tr>\n",
       "      <td>6220</td>\n",
       "      <td>Castlevania</td>\n",
       "      <td>None</td>\n",
       "      <td>1</td>\n",
       "    </tr>\n",
       "  </tbody>\n",
       "</table>\n",
       "<p>6221 rows × 3 columns</p>\n",
       "</div>"
      ],
      "text/plain": [
       "                          title            director  count\n",
       "0     I'll See You in My Dreams         Brett Haley      1\n",
       "1                   Raging Bull     Martin Scorsese      1\n",
       "2             Barbie: Spy Squad       Conrad Helten      1\n",
       "3                         Drive    Tarun Mansukhani      1\n",
       "4              Yaara O Dildaara  Ksshitij Chaudhary      1\n",
       "...                         ...                 ...    ...\n",
       "6216               Pacific Heat                None      1\n",
       "6217                   Lunatics                None      1\n",
       "6218                   Real Rob                None      1\n",
       "6219                  Explained                None      1\n",
       "6220                Castlevania                None      1\n",
       "\n",
       "[6221 rows x 3 columns]"
      ]
     },
     "execution_count": 7,
     "metadata": {},
     "output_type": "execute_result"
    }
   ],
   "source": [
    "catalog.dropDuplicates(['title','director']).groupBy(['title','director']).count().orderBy(fc.desc('count')).toPandas()"
   ]
  },
  {
   "cell_type": "code",
   "execution_count": 7,
   "metadata": {},
   "outputs": [
    {
     "data": {
      "text/html": [
       "<div>\n",
       "<style scoped>\n",
       "    .dataframe tbody tr th:only-of-type {\n",
       "        vertical-align: middle;\n",
       "    }\n",
       "\n",
       "    .dataframe tbody tr th {\n",
       "        vertical-align: top;\n",
       "    }\n",
       "\n",
       "    .dataframe thead th {\n",
       "        text-align: right;\n",
       "    }\n",
       "</style>\n",
       "<table border=\"1\" class=\"dataframe\">\n",
       "  <thead>\n",
       "    <tr style=\"text-align: right;\">\n",
       "      <th></th>\n",
       "      <th>show_id</th>\n",
       "      <th>type</th>\n",
       "      <th>title</th>\n",
       "      <th>director</th>\n",
       "      <th>cast</th>\n",
       "      <th>country</th>\n",
       "      <th>date_added</th>\n",
       "      <th>release_year</th>\n",
       "      <th>rating</th>\n",
       "      <th>duration</th>\n",
       "      <th>listed_in</th>\n",
       "      <th>description</th>\n",
       "    </tr>\n",
       "  </thead>\n",
       "  <tbody>\n",
       "  </tbody>\n",
       "</table>\n",
       "</div>"
      ],
      "text/plain": [
       "Empty DataFrame\n",
       "Columns: [show_id, type, title, director, cast, country, date_added, release_year, rating, duration, listed_in, description]\n",
       "Index: []"
      ]
     },
     "execution_count": 7,
     "metadata": {},
     "output_type": "execute_result"
    }
   ],
   "source": [
    "no_valid_content=catalog.where((catalog.title).isNotNull() & (catalog.description).isNull())\n",
    "no_valid_content.limit(5).toPandas()"
   ]
  },
  {
   "cell_type": "code",
   "execution_count": 8,
   "metadata": {},
   "outputs": [
    {
     "data": {
      "text/html": [
       "<div>\n",
       "<style scoped>\n",
       "    .dataframe tbody tr th:only-of-type {\n",
       "        vertical-align: middle;\n",
       "    }\n",
       "\n",
       "    .dataframe tbody tr th {\n",
       "        vertical-align: top;\n",
       "    }\n",
       "\n",
       "    .dataframe thead th {\n",
       "        text-align: right;\n",
       "    }\n",
       "</style>\n",
       "<table border=\"1\" class=\"dataframe\">\n",
       "  <thead>\n",
       "    <tr style=\"text-align: right;\">\n",
       "      <th></th>\n",
       "      <th>show_id</th>\n",
       "      <th>type</th>\n",
       "      <th>title</th>\n",
       "      <th>director</th>\n",
       "      <th>cast</th>\n",
       "      <th>country</th>\n",
       "      <th>date_added</th>\n",
       "      <th>release_year</th>\n",
       "      <th>rating</th>\n",
       "      <th>duration</th>\n",
       "      <th>listed_in</th>\n",
       "      <th>description</th>\n",
       "    </tr>\n",
       "  </thead>\n",
       "  <tbody>\n",
       "    <tr>\n",
       "      <td>0</td>\n",
       "      <td>81011096</td>\n",
       "      <td>Movie</td>\n",
       "      <td>최강전사 미니특공대 : 영웅의 탄생</td>\n",
       "      <td>Young Jun Lee</td>\n",
       "      <td>Um Sang-hyun, Yang Jeong-hwa, Jeon Tae-yeol, S...</td>\n",
       "      <td>None</td>\n",
       "      <td>September 1, 2018</td>\n",
       "      <td>2018</td>\n",
       "      <td>TV-Y7-FV</td>\n",
       "      <td>68 min</td>\n",
       "      <td>Children &amp; Family Movies</td>\n",
       "      <td>Miniforce, a special task force of elite range...</td>\n",
       "    </tr>\n",
       "    <tr>\n",
       "      <td>1</td>\n",
       "      <td>80226357</td>\n",
       "      <td>Movie</td>\n",
       "      <td>반드시 잡는다</td>\n",
       "      <td>Hong-seon Kim</td>\n",
       "      <td>Baek Yoon-sik</td>\n",
       "      <td>South Korea</td>\n",
       "      <td>February 28, 2018</td>\n",
       "      <td>2017</td>\n",
       "      <td>TV-MA</td>\n",
       "      <td>110 min</td>\n",
       "      <td>Dramas, International Movies, Thrillers</td>\n",
       "      <td>After people in his town start turning up dead...</td>\n",
       "    </tr>\n",
       "    <tr>\n",
       "      <td>2</td>\n",
       "      <td>80226338</td>\n",
       "      <td>TV Show</td>\n",
       "      <td>마녀사냥</td>\n",
       "      <td>None</td>\n",
       "      <td>Si-kyung Sung, Se-yoon Yoo, Dong-yup Shin, Ji-...</td>\n",
       "      <td>South Korea</td>\n",
       "      <td>February 19, 2018</td>\n",
       "      <td>2015</td>\n",
       "      <td>TV-MA</td>\n",
       "      <td>1 Season</td>\n",
       "      <td>International TV Shows, Korean TV Shows, Stand...</td>\n",
       "      <td>Four Korean celebrity men and guest stars of b...</td>\n",
       "    </tr>\n",
       "  </tbody>\n",
       "</table>\n",
       "</div>"
      ],
      "text/plain": [
       "    show_id     type                title       director  \\\n",
       "0  81011096    Movie  최강전사 미니특공대 : 영웅의 탄생  Young Jun Lee   \n",
       "1  80226357    Movie              반드시 잡는다  Hong-seon Kim   \n",
       "2  80226338  TV Show                 마녀사냥           None   \n",
       "\n",
       "                                                cast      country  \\\n",
       "0  Um Sang-hyun, Yang Jeong-hwa, Jeon Tae-yeol, S...         None   \n",
       "1                                      Baek Yoon-sik  South Korea   \n",
       "2  Si-kyung Sung, Se-yoon Yoo, Dong-yup Shin, Ji-...  South Korea   \n",
       "\n",
       "          date_added release_year    rating  duration  \\\n",
       "0  September 1, 2018         2018  TV-Y7-FV    68 min   \n",
       "1  February 28, 2018         2017     TV-MA   110 min   \n",
       "2  February 19, 2018         2015     TV-MA  1 Season   \n",
       "\n",
       "                                           listed_in  \\\n",
       "0                           Children & Family Movies   \n",
       "1            Dramas, International Movies, Thrillers   \n",
       "2  International TV Shows, Korean TV Shows, Stand...   \n",
       "\n",
       "                                         description  \n",
       "0  Miniforce, a special task force of elite range...  \n",
       "1  After people in his town start turning up dead...  \n",
       "2  Four Korean celebrity men and guest stars of b...  "
      ]
     },
     "execution_count": 8,
     "metadata": {},
     "output_type": "execute_result"
    }
   ],
   "source": [
    "non_duplicated_content=catalog.dropDuplicates(['title','director']).orderBy(fc.desc('title'))\n",
    "non_duplicated_content.limit(3).toPandas()"
   ]
  },
  {
   "cell_type": "markdown",
   "metadata": {},
   "source": [
    "### Drop rows without title."
   ]
  },
  {
   "cell_type": "code",
   "execution_count": 9,
   "metadata": {},
   "outputs": [
    {
     "data": {
      "text/html": [
       "<div>\n",
       "<style scoped>\n",
       "    .dataframe tbody tr th:only-of-type {\n",
       "        vertical-align: middle;\n",
       "    }\n",
       "\n",
       "    .dataframe tbody tr th {\n",
       "        vertical-align: top;\n",
       "    }\n",
       "\n",
       "    .dataframe thead th {\n",
       "        text-align: right;\n",
       "    }\n",
       "</style>\n",
       "<table border=\"1\" class=\"dataframe\">\n",
       "  <thead>\n",
       "    <tr style=\"text-align: right;\">\n",
       "      <th></th>\n",
       "      <th>show_id</th>\n",
       "      <th>type</th>\n",
       "      <th>title</th>\n",
       "      <th>director</th>\n",
       "      <th>cast</th>\n",
       "      <th>country</th>\n",
       "      <th>date_added</th>\n",
       "      <th>release_year</th>\n",
       "      <th>rating</th>\n",
       "      <th>duration</th>\n",
       "      <th>listed_in</th>\n",
       "      <th>description</th>\n",
       "    </tr>\n",
       "  </thead>\n",
       "  <tbody>\n",
       "    <tr>\n",
       "      <td>0</td>\n",
       "      <td>80132127</td>\n",
       "      <td>Movie</td>\n",
       "      <td>Behind The Cove: The Quiet Japanese Speak Out</td>\n",
       "      <td>Keiko Yagi</td>\n",
       "      <td>None</td>\n",
       "      <td>Japan, United States</td>\n",
       "      <td>August 25, 2017</td>\n",
       "      <td>2015</td>\n",
       "      <td>TV-14</td>\n",
       "      <td>105 min</td>\n",
       "      <td>Documentaries, International Movies</td>\n",
       "      <td>After a documentary about the Japanese whaling...</td>\n",
       "    </tr>\n",
       "    <tr>\n",
       "      <td>1</td>\n",
       "      <td>81168345</td>\n",
       "      <td>Movie</td>\n",
       "      <td>Escape from the Liberty Cinema</td>\n",
       "      <td>Wojciech Marczewski</td>\n",
       "      <td>Janusz Gajos, Zbigniew Zamachowski, Teresa Mar...</td>\n",
       "      <td>Poland</td>\n",
       "      <td>October 1, 2019</td>\n",
       "      <td>1990</td>\n",
       "      <td>TV-MA</td>\n",
       "      <td>88 min</td>\n",
       "      <td>Comedies, Dramas, Independent Movies</td>\n",
       "      <td>Artistic rebellion ignites at the movies when ...</td>\n",
       "    </tr>\n",
       "    <tr>\n",
       "      <td>2</td>\n",
       "      <td>81087095</td>\n",
       "      <td>Movie</td>\n",
       "      <td>#Roxy</td>\n",
       "      <td>Michael Kennedy</td>\n",
       "      <td>Jake Short, Sarah Fisher, Booboo Stewart, Dann...</td>\n",
       "      <td>Canada</td>\n",
       "      <td>April 10, 2019</td>\n",
       "      <td>2018</td>\n",
       "      <td>TV-14</td>\n",
       "      <td>105 min</td>\n",
       "      <td>Comedies, Romantic Movies</td>\n",
       "      <td>A teenage hacker with a huge nose helps a cool...</td>\n",
       "    </tr>\n",
       "  </tbody>\n",
       "</table>\n",
       "</div>"
      ],
      "text/plain": [
       "    show_id   type                                          title  \\\n",
       "0  80132127  Movie  Behind The Cove: The Quiet Japanese Speak Out   \n",
       "1  81168345  Movie                 Escape from the Liberty Cinema   \n",
       "2  81087095  Movie                                          #Roxy   \n",
       "\n",
       "              director                                               cast  \\\n",
       "0           Keiko Yagi                                               None   \n",
       "1  Wojciech Marczewski  Janusz Gajos, Zbigniew Zamachowski, Teresa Mar...   \n",
       "2      Michael Kennedy  Jake Short, Sarah Fisher, Booboo Stewart, Dann...   \n",
       "\n",
       "                country       date_added release_year rating duration  \\\n",
       "0  Japan, United States  August 25, 2017         2015  TV-14  105 min   \n",
       "1                Poland  October 1, 2019         1990  TV-MA   88 min   \n",
       "2                Canada   April 10, 2019         2018  TV-14  105 min   \n",
       "\n",
       "                              listed_in  \\\n",
       "0   Documentaries, International Movies   \n",
       "1  Comedies, Dramas, Independent Movies   \n",
       "2             Comedies, Romantic Movies   \n",
       "\n",
       "                                         description  \n",
       "0  After a documentary about the Japanese whaling...  \n",
       "1  Artistic rebellion ignites at the movies when ...  \n",
       "2  A teenage hacker with a huge nose helps a cool...  "
      ]
     },
     "execution_count": 9,
     "metadata": {},
     "output_type": "execute_result"
    }
   ],
   "source": [
    "content_with_title=non_duplicated_content.dropna('any',subset=['title']).orderBy(fc.asc('title'))\n",
    "content_with_title=content_with_title.withColumn('title',fc.translate('title','\"',''))\n",
    "content_with_title.limit(3).toPandas()"
   ]
  },
  {
   "cell_type": "markdown",
   "metadata": {},
   "source": [
    "### Fix of column types"
   ]
  },
  {
   "cell_type": "code",
   "execution_count": 10,
   "metadata": {},
   "outputs": [],
   "source": [
    "content_with_title=content_with_title.withColumn('show_id',col('show_id').cast(tp.LongType()))\n",
    "content_with_title=content_with_title.withColumn('release_year',col('release_year').cast(tp.IntegerType()))\n",
    "content_with_title=content_with_title.withColumn('date_added',fc.to_date('date_added','MMMMM dd, yyyy'))"
   ]
  },
  {
   "cell_type": "code",
   "execution_count": 11,
   "metadata": {},
   "outputs": [
    {
     "data": {
      "text/html": [
       "<div>\n",
       "<style scoped>\n",
       "    .dataframe tbody tr th:only-of-type {\n",
       "        vertical-align: middle;\n",
       "    }\n",
       "\n",
       "    .dataframe tbody tr th {\n",
       "        vertical-align: top;\n",
       "    }\n",
       "\n",
       "    .dataframe thead th {\n",
       "        text-align: right;\n",
       "    }\n",
       "</style>\n",
       "<table border=\"1\" class=\"dataframe\">\n",
       "  <thead>\n",
       "    <tr style=\"text-align: right;\">\n",
       "      <th></th>\n",
       "      <th>director</th>\n",
       "      <th>count</th>\n",
       "    </tr>\n",
       "  </thead>\n",
       "  <tbody>\n",
       "    <tr>\n",
       "      <td>0</td>\n",
       "      <td>Raúl Campos, Jan Suter</td>\n",
       "      <td>18</td>\n",
       "    </tr>\n",
       "    <tr>\n",
       "      <td>1</td>\n",
       "      <td>Marcus Raboy</td>\n",
       "      <td>14</td>\n",
       "    </tr>\n",
       "    <tr>\n",
       "      <td>2</td>\n",
       "      <td>Jay Karas</td>\n",
       "      <td>13</td>\n",
       "    </tr>\n",
       "  </tbody>\n",
       "</table>\n",
       "</div>"
      ],
      "text/plain": [
       "                 director  count\n",
       "0  Raúl Campos, Jan Suter     18\n",
       "1            Marcus Raboy     14\n",
       "2               Jay Karas     13"
      ]
     },
     "execution_count": 11,
     "metadata": {},
     "output_type": "execute_result"
    }
   ],
   "source": [
    "topDirector=content_with_title.dropna('any',subset=['director']).where((catalog.type=='Movie')).groupBy('director').count().orderBy(fc.desc('count'))\n",
    "topDirector.limit(3).toPandas()"
   ]
  },
  {
   "cell_type": "code",
   "execution_count": 12,
   "metadata": {},
   "outputs": [
    {
     "name": "stdout",
     "output_type": "stream",
     "text": [
      "root\n",
      " |-- show_id: long (nullable = true)\n",
      " |-- type: string (nullable = true)\n",
      " |-- title: string (nullable = true)\n",
      " |-- director: string (nullable = true)\n",
      " |-- cast: string (nullable = true)\n",
      " |-- country: string (nullable = true)\n",
      " |-- date_added: date (nullable = true)\n",
      " |-- release_year: integer (nullable = true)\n",
      " |-- rating: string (nullable = true)\n",
      " |-- duration: string (nullable = true)\n",
      " |-- listed_in: string (nullable = true)\n",
      " |-- description: string (nullable = true)\n",
      "\n"
     ]
    }
   ],
   "source": [
    "content_with_title.printSchema()"
   ]
  },
  {
   "cell_type": "code",
   "execution_count": 16,
   "metadata": {},
   "outputs": [
    {
     "data": {
      "text/plain": [
       "6219"
      ]
     },
     "execution_count": 16,
     "metadata": {},
     "output_type": "execute_result"
    }
   ],
   "source": [
    "content_with_title.count()"
   ]
  },
  {
   "cell_type": "code",
   "execution_count": 459,
   "metadata": {},
   "outputs": [],
   "source": [
    "content_with_title.write.json('/Users/brayanjules/Projects/personal/data engineer/datasets/netflix_catalog','overwrite')"
   ]
  },
  {
   "cell_type": "markdown",
   "metadata": {},
   "source": [
    "# Reddit Netflix comments"
   ]
  },
  {
   "cell_type": "code",
   "execution_count": 13,
   "metadata": {},
   "outputs": [],
   "source": [
    "import praw\n",
    "import os\n",
    "import pandas as pd\n",
    "from pyspark.sql import Row"
   ]
  },
  {
   "cell_type": "code",
   "execution_count": 453,
   "metadata": {},
   "outputs": [
    {
     "data": {
      "text/plain": [
       "'/Users/brayanjules/Projects/personal/data engineer/nanodegre/capstone-project'"
      ]
     },
     "execution_count": 453,
     "metadata": {},
     "output_type": "execute_result"
    }
   ],
   "source": [
    "os.getcwd()"
   ]
  },
  {
   "cell_type": "code",
   "execution_count": 14,
   "metadata": {},
   "outputs": [],
   "source": [
    "reddit = praw.Reddit(client_id='k6twSlTNOdnGjQ',client_secret='NrQ-rdSKMOJM17yj3hO4apbmTis'\n",
    "                     ,\n",
    "                     user_agent='academic_comments_understanding:v1 by /u/zekeja') ## Use the praw.init when possible"
   ]
  },
  {
   "cell_type": "markdown",
   "metadata": {},
   "source": [
    "### SubReddit Search by content ( netflix,NetflixBestOf,bestofnetflix)"
   ]
  },
  {
   "cell_type": "code",
   "execution_count": 15,
   "metadata": {},
   "outputs": [],
   "source": [
    "redditSchema=tp.StructType([tp.StructField('show_id',tp.LongType(),True),\n",
    "               tp.StructField('submission_id',tp.StringType(),True),\n",
    "               tp.StructField('source',tp.StringType(),True),\n",
    "               tp.StructField('title',tp.StringType(),True),\n",
    "               tp.StructField('description',tp.StringType(),True),\n",
    "               tp.StructField('created_utc',tp.TimestampType(),True),\n",
    "               tp.StructField('author',tp.StringType(),True),\n",
    "               tp.StructField('score',tp.IntegerType(),True),\n",
    "               tp.StructField('spoiler',tp.BooleanType(),True),\n",
    "               tp.StructField('is_original_content',tp.BooleanType(),True),\n",
    "               tp.StructField('distinguished',tp.StringType(),True),\n",
    "               tp.StructField('link',tp.StringType(),True),             \n",
    "               tp.StructField('comments',tp.ArrayType(tp.StructType([\n",
    "                   tp.StructField('comment_id',tp.StringType(),True),\n",
    "                   tp.StructField('body',tp.StringType(),True),\n",
    "                   tp.StructField('created_utc',tp.TimestampType(),True),\n",
    "                   tp.StructField('score',tp.IntegerType(),True),\n",
    "                   tp.StructField('parent_id',tp.StringType(),True),\n",
    "                   tp.StructField('submission_id',tp.StringType(),True)]\n",
    "               )),True)\n",
    "              ])\n"
   ]
  },
  {
   "cell_type": "code",
   "execution_count": 644,
   "metadata": {},
   "outputs": [],
   "source": [
    "content_rows=[]\n",
    "for content in content_with_title.limit(5).collect():\n",
    "    title_split=content.title.split(\":\",1)\n",
    "    content_title=title_split[0]\n",
    "    subreddit=reddit.subreddit('netflix')\n",
    "    for sm in subreddit.search('\"'+content_title+'\"',sort='new'):\n",
    "        sm.comments.replace_more(limit=None)\n",
    "        #print(sm.title)\n",
    "        row_comments = []\n",
    "        for comment in sm.comments.list():\n",
    "            row_comments.append((comment.id,comment.body,dt.fromtimestamp(float(comment.created_utc)),comment.score,\n",
    "                                       comment.parent_id,comment.link_id)) \n",
    "        current_sm=(content.show_id,sm.id,subreddit.display_name,sm.title,sm.selftext,\n",
    "                    dt.fromtimestamp(float(sm.created_utc)),sm.author.name,\n",
    "                      sm.score,sm.spoiler,sm.is_original_content,sm.distinguished,sm.permalink,row_comments)\n",
    "        content_rows.append(current_sm)    "
   ]
  },
  {
   "cell_type": "code",
   "execution_count": 645,
   "metadata": {},
   "outputs": [
    {
     "name": "stdout",
     "output_type": "stream",
     "text": [
      "root\n",
      " |-- show_id: long (nullable = true)\n",
      " |-- submission_id: string (nullable = true)\n",
      " |-- source: string (nullable = true)\n",
      " |-- title: string (nullable = true)\n",
      " |-- description: string (nullable = true)\n",
      " |-- created_utc: timestamp (nullable = true)\n",
      " |-- author: string (nullable = true)\n",
      " |-- score: integer (nullable = true)\n",
      " |-- spoiler: boolean (nullable = true)\n",
      " |-- is_original_content: boolean (nullable = true)\n",
      " |-- distinguished: string (nullable = true)\n",
      " |-- link: string (nullable = true)\n",
      " |-- comments: array (nullable = true)\n",
      " |    |-- element: struct (containsNull = true)\n",
      " |    |    |-- comment_id: string (nullable = true)\n",
      " |    |    |-- body: string (nullable = true)\n",
      " |    |    |-- created_utc: timestamp (nullable = true)\n",
      " |    |    |-- score: integer (nullable = true)\n",
      " |    |    |-- parent_id: string (nullable = true)\n",
      " |    |    |-- submission_id: string (nullable = true)\n",
      "\n"
     ]
    }
   ],
   "source": [
    "rdt_netflix_content=spark.createDataFrame(content_rows,redditSchema)\n",
    "rdt_netflix_content.printSchema()"
   ]
  },
  {
   "cell_type": "code",
   "execution_count": 647,
   "metadata": {},
   "outputs": [
    {
     "data": {
      "text/html": [
       "<div>\n",
       "<style scoped>\n",
       "    .dataframe tbody tr th:only-of-type {\n",
       "        vertical-align: middle;\n",
       "    }\n",
       "\n",
       "    .dataframe tbody tr th {\n",
       "        vertical-align: top;\n",
       "    }\n",
       "\n",
       "    .dataframe thead th {\n",
       "        text-align: right;\n",
       "    }\n",
       "</style>\n",
       "<table border=\"1\" class=\"dataframe\">\n",
       "  <thead>\n",
       "    <tr style=\"text-align: right;\">\n",
       "      <th></th>\n",
       "      <th>show_id</th>\n",
       "      <th>submission_id</th>\n",
       "      <th>source</th>\n",
       "      <th>title</th>\n",
       "      <th>description</th>\n",
       "      <th>created_utc</th>\n",
       "      <th>author</th>\n",
       "      <th>score</th>\n",
       "      <th>spoiler</th>\n",
       "      <th>is_original_content</th>\n",
       "      <th>distinguished</th>\n",
       "      <th>link</th>\n",
       "      <th>comments</th>\n",
       "    </tr>\n",
       "  </thead>\n",
       "  <tbody>\n",
       "    <tr>\n",
       "      <td>0</td>\n",
       "      <td>81092768</td>\n",
       "      <td>e8v216</td>\n",
       "      <td>netflix</td>\n",
       "      <td>Weird shirtless gym selfie on Netflix Twitter ...</td>\n",
       "      <td>[https://twitter.com/netflix/status/120445343...</td>\n",
       "      <td>2019-12-10 19:07:43</td>\n",
       "      <td>OrganicCorndawg</td>\n",
       "      <td>1</td>\n",
       "      <td>False</td>\n",
       "      <td>False</td>\n",
       "      <td>None</td>\n",
       "      <td>/r/netflix/comments/e8v216/weird_shirtless_gym...</td>\n",
       "      <td>[(faeoqgb, This response seems to explain it:\\...</td>\n",
       "    </tr>\n",
       "    <tr>\n",
       "      <td>1</td>\n",
       "      <td>81092768</td>\n",
       "      <td>99vbkh</td>\n",
       "      <td>netflix</td>\n",
       "      <td>Selfie From Hell Movie: Ending Explained + Wha...</td>\n",
       "      <td></td>\n",
       "      <td>2018-08-24 07:14:30</td>\n",
       "      <td>PaulTweddle</td>\n",
       "      <td>6</td>\n",
       "      <td>False</td>\n",
       "      <td>False</td>\n",
       "      <td>None</td>\n",
       "      <td>/r/netflix/comments/99vbkh/selfie_from_hell_mo...</td>\n",
       "      <td>[]</td>\n",
       "    </tr>\n",
       "    <tr>\n",
       "      <td>2</td>\n",
       "      <td>80132127</td>\n",
       "      <td>98y3ld</td>\n",
       "      <td>netflix</td>\n",
       "      <td>[UK] Netflix no longer has The Cove, the Oscar...</td>\n",
       "      <td>I appreciate having both sides of the argument...</td>\n",
       "      <td>2018-08-20 22:22:31</td>\n",
       "      <td>lewis_pritchard</td>\n",
       "      <td>143</td>\n",
       "      <td>False</td>\n",
       "      <td>False</td>\n",
       "      <td>None</td>\n",
       "      <td>/r/netflix/comments/98y3ld/uk_netflix_no_longe...</td>\n",
       "      <td>[(e4jp9zf, It's highly unlikely they know the ...</td>\n",
       "    </tr>\n",
       "  </tbody>\n",
       "</table>\n",
       "</div>"
      ],
      "text/plain": [
       "    show_id submission_id   source  \\\n",
       "0  81092768        e8v216  netflix   \n",
       "1  81092768        99vbkh  netflix   \n",
       "2  80132127        98y3ld  netflix   \n",
       "\n",
       "                                               title  \\\n",
       "0  Weird shirtless gym selfie on Netflix Twitter ...   \n",
       "1  Selfie From Hell Movie: Ending Explained + Wha...   \n",
       "2  [UK] Netflix no longer has The Cove, the Oscar...   \n",
       "\n",
       "                                         description         created_utc  \\\n",
       "0   [https://twitter.com/netflix/status/120445343... 2019-12-10 19:07:43   \n",
       "1                                                    2018-08-24 07:14:30   \n",
       "2  I appreciate having both sides of the argument... 2018-08-20 22:22:31   \n",
       "\n",
       "            author  score  spoiler  is_original_content distinguished  \\\n",
       "0  OrganicCorndawg      1    False                False          None   \n",
       "1      PaulTweddle      6    False                False          None   \n",
       "2  lewis_pritchard    143    False                False          None   \n",
       "\n",
       "                                                link  \\\n",
       "0  /r/netflix/comments/e8v216/weird_shirtless_gym...   \n",
       "1  /r/netflix/comments/99vbkh/selfie_from_hell_mo...   \n",
       "2  /r/netflix/comments/98y3ld/uk_netflix_no_longe...   \n",
       "\n",
       "                                            comments  \n",
       "0  [(faeoqgb, This response seems to explain it:\\...  \n",
       "1                                                 []  \n",
       "2  [(e4jp9zf, It's highly unlikely they know the ...  "
      ]
     },
     "execution_count": 647,
     "metadata": {},
     "output_type": "execute_result"
    }
   ],
   "source": [
    "rdt_netflix_content.orderBy(fc.desc('created_utc')).limit(3).toPandas()"
   ]
  },
  {
   "cell_type": "code",
   "execution_count": 642,
   "metadata": {},
   "outputs": [
    {
     "data": {
      "text/html": [
       "<div>\n",
       "<style scoped>\n",
       "    .dataframe tbody tr th:only-of-type {\n",
       "        vertical-align: middle;\n",
       "    }\n",
       "\n",
       "    .dataframe tbody tr th {\n",
       "        vertical-align: top;\n",
       "    }\n",
       "\n",
       "    .dataframe thead th {\n",
       "        text-align: right;\n",
       "    }\n",
       "</style>\n",
       "<table border=\"1\" class=\"dataframe\">\n",
       "  <thead>\n",
       "    <tr style=\"text-align: right;\">\n",
       "      <th></th>\n",
       "      <th>show_id</th>\n",
       "      <th>submission_id</th>\n",
       "      <th>source</th>\n",
       "      <th>title</th>\n",
       "      <th>description</th>\n",
       "      <th>created_utc</th>\n",
       "      <th>author</th>\n",
       "      <th>score</th>\n",
       "      <th>spoiler</th>\n",
       "      <th>is_original_content</th>\n",
       "      <th>distinguished</th>\n",
       "      <th>link</th>\n",
       "      <th>comments</th>\n",
       "    </tr>\n",
       "  </thead>\n",
       "  <tbody>\n",
       "    <tr>\n",
       "      <td>0</td>\n",
       "      <td>80132127</td>\n",
       "      <td>98y3ld</td>\n",
       "      <td>netflix</td>\n",
       "      <td>[UK] Netflix no longer has The Cove, the Oscar...</td>\n",
       "      <td>I appreciate having both sides of the argument...</td>\n",
       "      <td>2018-08-20 22:22:31</td>\n",
       "      <td>lewis_pritchard</td>\n",
       "      <td>140</td>\n",
       "      <td>False</td>\n",
       "      <td>False</td>\n",
       "      <td>None</td>\n",
       "      <td>/r/netflix/comments/98y3ld/uk_netflix_no_longe...</td>\n",
       "      <td>[(e4jp9zf, It's highly unlikely they know the ...</td>\n",
       "    </tr>\n",
       "    <tr>\n",
       "      <td>1</td>\n",
       "      <td>81092768</td>\n",
       "      <td>e8v216</td>\n",
       "      <td>netflix</td>\n",
       "      <td>Weird shirtless gym selfie on Netflix Twitter ...</td>\n",
       "      <td>[https://twitter.com/netflix/status/120445343...</td>\n",
       "      <td>2019-12-10 19:07:43</td>\n",
       "      <td>OrganicCorndawg</td>\n",
       "      <td>1</td>\n",
       "      <td>False</td>\n",
       "      <td>False</td>\n",
       "      <td>None</td>\n",
       "      <td>/r/netflix/comments/e8v216/weird_shirtless_gym...</td>\n",
       "      <td>[(faeoqgb, This response seems to explain it:\\...</td>\n",
       "    </tr>\n",
       "    <tr>\n",
       "      <td>2</td>\n",
       "      <td>81092768</td>\n",
       "      <td>99vbkh</td>\n",
       "      <td>netflix</td>\n",
       "      <td>Selfie From Hell Movie: Ending Explained + Wha...</td>\n",
       "      <td></td>\n",
       "      <td>2018-08-24 07:14:30</td>\n",
       "      <td>PaulTweddle</td>\n",
       "      <td>6</td>\n",
       "      <td>False</td>\n",
       "      <td>False</td>\n",
       "      <td>None</td>\n",
       "      <td>/r/netflix/comments/99vbkh/selfie_from_hell_mo...</td>\n",
       "      <td>[]</td>\n",
       "    </tr>\n",
       "  </tbody>\n",
       "</table>\n",
       "</div>"
      ],
      "text/plain": [
       "    show_id submission_id   source  \\\n",
       "0  80132127        98y3ld  netflix   \n",
       "1  81092768        e8v216  netflix   \n",
       "2  81092768        99vbkh  netflix   \n",
       "\n",
       "                                               title  \\\n",
       "0  [UK] Netflix no longer has The Cove, the Oscar...   \n",
       "1  Weird shirtless gym selfie on Netflix Twitter ...   \n",
       "2  Selfie From Hell Movie: Ending Explained + Wha...   \n",
       "\n",
       "                                         description         created_utc  \\\n",
       "0  I appreciate having both sides of the argument... 2018-08-20 22:22:31   \n",
       "1   [https://twitter.com/netflix/status/120445343... 2019-12-10 19:07:43   \n",
       "2                                                    2018-08-24 07:14:30   \n",
       "\n",
       "            author  score  spoiler  is_original_content distinguished  \\\n",
       "0  lewis_pritchard    140    False                False          None   \n",
       "1  OrganicCorndawg      1    False                False          None   \n",
       "2      PaulTweddle      6    False                False          None   \n",
       "\n",
       "                                                link  \\\n",
       "0  /r/netflix/comments/98y3ld/uk_netflix_no_longe...   \n",
       "1  /r/netflix/comments/e8v216/weird_shirtless_gym...   \n",
       "2  /r/netflix/comments/99vbkh/selfie_from_hell_mo...   \n",
       "\n",
       "                                            comments  \n",
       "0  [(e4jp9zf, It's highly unlikely they know the ...  \n",
       "1  [(faeoqgb, This response seems to explain it:\\...  \n",
       "2                                                 []  "
      ]
     },
     "execution_count": 642,
     "metadata": {},
     "output_type": "execute_result"
    }
   ],
   "source": [
    "rdt_netflix_content.limit(5).toPandas()"
   ]
  },
  {
   "cell_type": "code",
   "execution_count": 451,
   "metadata": {},
   "outputs": [
    {
     "data": {
      "text/plain": [
       "1684"
      ]
     },
     "execution_count": 451,
     "metadata": {},
     "output_type": "execute_result"
    }
   ],
   "source": [
    "len(rdt_netflix_content.toPandas())"
   ]
  },
  {
   "cell_type": "code",
   "execution_count": 448,
   "metadata": {
    "pycharm": {
     "name": "#%%\n"
    }
   },
   "outputs": [],
   "source": [
    "rdt_netflix_content.write.json(\"/Users/brayanjules/Projects/personal/data engineer/datasets/reddit_netflix\",'overwrite')"
   ]
  },
  {
   "cell_type": "code",
   "execution_count": 65,
   "metadata": {
    "pycharm": {
     "name": "#%%\n"
    }
   },
   "outputs": [],
   "source": [
    "result_test=content_with_title.limit(5).rdd.flatMap(lambda x:getRedditComments(reddit,x,'netflix',redditSchema))\n",
    "final_result=spark.createDataFrame(result_test,redditSchema)"
   ]
  },
  {
   "cell_type": "code",
   "execution_count": 21,
   "metadata": {
    "pycharm": {
     "name": "#%%\n"
    }
   },
   "outputs": [],
   "source": [
    "def test_x(x):\n",
    "    return x"
   ]
  },
  {
   "cell_type": "code",
   "execution_count": 66,
   "metadata": {},
   "outputs": [
    {
     "data": {
      "text/html": [
       "<div>\n",
       "<style scoped>\n",
       "    .dataframe tbody tr th:only-of-type {\n",
       "        vertical-align: middle;\n",
       "    }\n",
       "\n",
       "    .dataframe tbody tr th {\n",
       "        vertical-align: top;\n",
       "    }\n",
       "\n",
       "    .dataframe thead th {\n",
       "        text-align: right;\n",
       "    }\n",
       "</style>\n",
       "<table border=\"1\" class=\"dataframe\">\n",
       "  <thead>\n",
       "    <tr style=\"text-align: right;\">\n",
       "      <th></th>\n",
       "      <th>show_id</th>\n",
       "      <th>submission_id</th>\n",
       "      <th>source</th>\n",
       "      <th>title</th>\n",
       "      <th>description</th>\n",
       "      <th>created_utc</th>\n",
       "      <th>author</th>\n",
       "      <th>score</th>\n",
       "      <th>spoiler</th>\n",
       "      <th>is_original_content</th>\n",
       "      <th>distinguished</th>\n",
       "      <th>link</th>\n",
       "      <th>comments</th>\n",
       "    </tr>\n",
       "  </thead>\n",
       "  <tbody>\n",
       "    <tr>\n",
       "      <td>0</td>\n",
       "      <td>80132127</td>\n",
       "      <td>98y3ld</td>\n",
       "      <td>netflix</td>\n",
       "      <td>[UK] Netflix no longer has The Cove, the Oscar...</td>\n",
       "      <td>I appreciate having both sides of the argument...</td>\n",
       "      <td>2018-08-20 19:22:31</td>\n",
       "      <td>lewis_pritchard</td>\n",
       "      <td>141</td>\n",
       "      <td>False</td>\n",
       "      <td>False</td>\n",
       "      <td>None</td>\n",
       "      <td>/r/netflix/comments/98y3ld/uk_netflix_no_longe...</td>\n",
       "      <td>[(e4jp9zf, It's highly unlikely they know the ...</td>\n",
       "    </tr>\n",
       "    <tr>\n",
       "      <td>1</td>\n",
       "      <td>81087095</td>\n",
       "      <td>g5uizp</td>\n",
       "      <td>netflix</td>\n",
       "      <td>Reciving Error M7111-5059 but I don't use any ...</td>\n",
       "      <td>Just today I have been unable to view any con...</td>\n",
       "      <td>2020-04-22 00:20:45</td>\n",
       "      <td>Atromix_</td>\n",
       "      <td>2</td>\n",
       "      <td>False</td>\n",
       "      <td>False</td>\n",
       "      <td>None</td>\n",
       "      <td>/r/netflix/comments/g5uizp/reciving_error_m711...</td>\n",
       "      <td>[(fo5muf4, Your ISP is probably using a shared...</td>\n",
       "    </tr>\n",
       "    <tr>\n",
       "      <td>2</td>\n",
       "      <td>81092768</td>\n",
       "      <td>99vbkh</td>\n",
       "      <td>netflix</td>\n",
       "      <td>Selfie From Hell Movie: Ending Explained + Wha...</td>\n",
       "      <td></td>\n",
       "      <td>2018-08-24 04:14:30</td>\n",
       "      <td>PaulTweddle</td>\n",
       "      <td>4</td>\n",
       "      <td>False</td>\n",
       "      <td>False</td>\n",
       "      <td>None</td>\n",
       "      <td>/r/netflix/comments/99vbkh/selfie_from_hell_mo...</td>\n",
       "      <td>[]</td>\n",
       "    </tr>\n",
       "    <tr>\n",
       "      <td>3</td>\n",
       "      <td>81092768</td>\n",
       "      <td>e8v216</td>\n",
       "      <td>netflix</td>\n",
       "      <td>Weird shirtless gym selfie on Netflix Twitter ...</td>\n",
       "      <td>[https://twitter.com/netflix/status/120445343...</td>\n",
       "      <td>2019-12-10 16:07:43</td>\n",
       "      <td>OrganicCorndawg</td>\n",
       "      <td>1</td>\n",
       "      <td>False</td>\n",
       "      <td>False</td>\n",
       "      <td>None</td>\n",
       "      <td>/r/netflix/comments/e8v216/weird_shirtless_gym...</td>\n",
       "      <td>[(faeoqgb, This response seems to explain it:\\...</td>\n",
       "    </tr>\n",
       "  </tbody>\n",
       "</table>\n",
       "</div>"
      ],
      "text/plain": [
       "    show_id submission_id   source  \\\n",
       "0  80132127        98y3ld  netflix   \n",
       "1  81087095        g5uizp  netflix   \n",
       "2  81092768        99vbkh  netflix   \n",
       "3  81092768        e8v216  netflix   \n",
       "\n",
       "                                               title  \\\n",
       "0  [UK] Netflix no longer has The Cove, the Oscar...   \n",
       "1  Reciving Error M7111-5059 but I don't use any ...   \n",
       "2  Selfie From Hell Movie: Ending Explained + Wha...   \n",
       "3  Weird shirtless gym selfie on Netflix Twitter ...   \n",
       "\n",
       "                                         description         created_utc  \\\n",
       "0  I appreciate having both sides of the argument... 2018-08-20 19:22:31   \n",
       "1   Just today I have been unable to view any con... 2020-04-22 00:20:45   \n",
       "2                                                    2018-08-24 04:14:30   \n",
       "3   [https://twitter.com/netflix/status/120445343... 2019-12-10 16:07:43   \n",
       "\n",
       "            author  score  spoiler  is_original_content distinguished  \\\n",
       "0  lewis_pritchard    141    False                False          None   \n",
       "1         Atromix_      2    False                False          None   \n",
       "2      PaulTweddle      4    False                False          None   \n",
       "3  OrganicCorndawg      1    False                False          None   \n",
       "\n",
       "                                                link  \\\n",
       "0  /r/netflix/comments/98y3ld/uk_netflix_no_longe...   \n",
       "1  /r/netflix/comments/g5uizp/reciving_error_m711...   \n",
       "2  /r/netflix/comments/99vbkh/selfie_from_hell_mo...   \n",
       "3  /r/netflix/comments/e8v216/weird_shirtless_gym...   \n",
       "\n",
       "                                            comments  \n",
       "0  [(e4jp9zf, It's highly unlikely they know the ...  \n",
       "1  [(fo5muf4, Your ISP is probably using a shared...  \n",
       "2                                                 []  \n",
       "3  [(faeoqgb, This response seems to explain it:\\...  "
      ]
     },
     "execution_count": 66,
     "metadata": {},
     "output_type": "execute_result"
    }
   ],
   "source": [
    "final_result.toPandas()"
   ]
  },
  {
   "cell_type": "code",
   "execution_count": 17,
   "metadata": {
    "pycharm": {
     "name": "#%%\n"
    }
   },
   "outputs": [],
   "source": [
    "stored_rows = SparkContext.accumulator(0,[],[])\n"
   ]
  },
  {
   "cell_type": "code",
   "execution_count": 18,
   "metadata": {
    "pycharm": {
     "name": "#%%\n"
    }
   },
   "outputs": [],
   "source": [
    "def add_new_acc_value(rows):\n",
    "    global stored_rows\n",
    "    stored_rows.value.append(rows)"
   ]
  },
  {
   "cell_type": "code",
   "execution_count": 19,
   "metadata": {
    "pycharm": {
     "name": "#%%\n"
    }
   },
   "outputs": [
    {
     "data": {
      "text/plain": [
       "[]"
      ]
     },
     "execution_count": 19,
     "metadata": {},
     "output_type": "execute_result"
    }
   ],
   "source": [
    "stored_rows.value\n"
   ]
  },
  {
   "cell_type": "code",
   "execution_count": null,
   "outputs": [],
   "source": [
    "#@udf(redditSchema)\n",
    "def getRedditComments(reddit, show, sub_reddit, reddit_schema):\n",
    "    content_rows = []\n",
    "    title_split = show.title.split(\":\", 1)\n",
    "    content_title = title_split[0]\n",
    "    subreddit = reddit.subreddit(sub_reddit)\n",
    "    for sm in subreddit.search('\"' + content_title + '\"', sort='top'):\n",
    "        sm.comments.replace_more(limit=None)\n",
    "        row_comments = []\n",
    "        for comment in sm.comments.list():\n",
    "            #row_comments.append(1)\n",
    "            row_comments.append(\n",
    "                (comment.id, comment.body, dt.fromtimestamp(float(comment.created_utc)), comment.score,\n",
    "                 comment.parent_id, comment.link_id))\n",
    "        current_sm = (show.show_id, sm.id, subreddit.display_name, sm.title, sm.selftext,\n",
    "                      dt.fromtimestamp(float(sm.created_utc)), sm.author.name,\n",
    "                      sm.score, sm.spoiler, sm.is_original_content, sm.distinguished, sm.permalink, row_comments)\n",
    "        content_rows.append(current_sm)\n",
    "        # self.log.info('Data extracted from subreddit: {}'.format(sub_reddit))\n",
    "    return content_rows\n"
   ],
   "metadata": {
    "collapsed": false,
    "pycharm": {
     "name": "#%%\n"
    }
   }
  },
  {
   "cell_type": "code",
   "execution_count": null,
   "outputs": [],
   "source": [
    "a = \"netflix  NetflixBestOf\"\n",
    "a.split()"
   ],
   "metadata": {
    "collapsed": false,
    "pycharm": {
     "name": "#%%\n"
    }
   }
  },
  {
   "cell_type": "code",
   "execution_count": null,
   "metadata": {
    "pycharm": {
     "name": "#%%\n"
    }
   },
   "outputs": [],
   "source": [
    "#@udf(redditSchema)\n",
    "def getRedditComments(reddit, show, sub_reddit, reddit_schema):\n",
    "    content_rows = []\n",
    "    title_split = show.title.split(\":\", 1)\n",
    "    content_title = title_split[0]\n",
    "    subreddit = reddit.subreddit(sub_reddit)\n",
    "    for sm in subreddit.search('\"' + content_title + '\"', sort='top'):\n",
    "        sm.comments.replace_more(limit=None)\n",
    "        row_comments = []\n",
    "        for comment in sm.comments.list():\n",
    "            #row_comments.append(1)\n",
    "            row_comments.append(\n",
    "                (comment.id, comment.body, dt.fromtimestamp(float(comment.created_utc)), comment.score,\n",
    "                 comment.parent_id, comment.link_id))\n",
    "        current_sm = (show.show_id, sm.id, subreddit.display_name, sm.title, sm.selftext,\n",
    "                      dt.fromtimestamp(float(sm.created_utc)), sm.author.name,\n",
    "                      sm.score, sm.spoiler, sm.is_original_content, sm.distinguished, sm.permalink, row_comments)\n",
    "        content_rows.append(current_sm)\n",
    "        # self.log.info('Data extracted from subreddit: {}'.format(sub_reddit))\n",
    "    return content_rows\n"
   ]
  },
  {
   "cell_type": "code",
   "execution_count": 74,
   "metadata": {},
   "outputs": [
    {
     "data": {
      "text/plain": [
       "['netflix', 'NetflixBestOf']"
      ]
     },
     "execution_count": 74,
     "metadata": {},
     "output_type": "execute_result"
    }
   ],
   "source": [
    "a = \"netflix  NetflixBestOf\"\n",
    "a.split()"
   ]
  },
  {
   "cell_type": "code",
   "execution_count": 55,
   "metadata": {
    "pycharm": {
     "name": "#%%\n"
    }
   },
   "outputs": [],
   "source": [
    "#@udf(redditSchema)\n",
    "def getRedditComments(reddit, show, sub_reddit, reddit_schema):\n",
    "    content_rows = []\n",
    "    title_split = show.title.split(\":\", 1)\n",
    "    content_title = title_split[0]\n",
    "    subreddit = reddit.subreddit(sub_reddit)\n",
    "    for sm in subreddit.search('\"' + content_title + '\"', sort='top'):\n",
    "        sm.comments.replace_more(limit=None)\n",
    "        row_comments = []\n",
    "        for comment in sm.comments.list():\n",
    "            #row_comments.append(1)\n",
    "            row_comments.append(\n",
    "                (comment.id, comment.body, dt.fromtimestamp(float(comment.created_utc)), comment.score,\n",
    "                 comment.parent_id, comment.link_id))\n",
    "        current_sm = (show.show_id, sm.id, subreddit.display_name, sm.title, sm.selftext,\n",
    "                      dt.fromtimestamp(float(sm.created_utc)), sm.author.name,\n",
    "                      sm.score, sm.spoiler, sm.is_original_content, sm.distinguished, sm.permalink, row_comments)\n",
    "        content_rows.append(current_sm)\n",
    "        # self.log.info('Data extracted from subreddit: {}'.format(sub_reddit))\n",
    "    return content_rows\n"
   ]
  }
 ],
 "metadata": {
  "kernelspec": {
   "display_name": "Python 3",
   "language": "python",
   "name": "python3"
  },
  "language_info": {
   "codemirror_mode": {
    "name": "ipython",
    "version": 3
   },
   "file_extension": ".py",
   "mimetype": "text/x-python",
   "name": "python",
   "nbconvert_exporter": "python",
   "pygments_lexer": "ipython3",
   "version": "3.7.4"
  }
 },
 "nbformat": 4,
 "nbformat_minor": 2
}